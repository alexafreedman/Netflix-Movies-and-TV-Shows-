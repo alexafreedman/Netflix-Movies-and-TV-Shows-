{
  "nbformat": 4,
  "nbformat_minor": 0,
  "metadata": {
    "colab": {
      "name": "EDA_Freedman_Alexa.ipynb",
      "provenance": []
    },
    "kernelspec": {
      "name": "python3",
      "display_name": "Python 3"
    }
  },
  "cells": [
    {
      "cell_type": "markdown",
      "metadata": {
        "id": "cn0akopsY0wk"
      },
      "source": [
        "# EDA PROJECT\n"
      ]
    },
    {
      "cell_type": "markdown",
      "metadata": {
        "id": "YKxy2n54SN_t"
      },
      "source": [
        "Link to blog on Medium:\n",
        "https://alexafre.medium.com/netflix-movies-and-tv-shows-6517fc0b1c84"
      ]
    },
    {
      "cell_type": "markdown",
      "metadata": {
        "id": "WFFHWPGJY6_4"
      },
      "source": [
        "## Importing Libararies"
      ]
    },
    {
      "cell_type": "code",
      "metadata": {
        "id": "EHiDWGiPC0LM"
      },
      "source": [
        "#Importing neccessary Libraries \n",
        "\n",
        "import numpy as np\n",
        "import pandas as pd \n",
        "from pandas_profiling import ProfileReport\n",
        "import matplotlib.pyplot as plt\n",
        "import seaborn as sns\n",
        "%matplotlib inline"
      ],
      "execution_count": null,
      "outputs": []
    },
    {
      "cell_type": "markdown",
      "metadata": {
        "id": "cvAHcrlgY_g5"
      },
      "source": [
        "## Reading the csv data"
      ]
    },
    {
      "cell_type": "code",
      "metadata": {
        "colab": {
          "base_uri": "https://localhost:8080/",
          "height": 1000
        },
        "id": "0ZDsIRKzDgU6",
        "outputId": "e9e23cc6-fe74-47d0-aedf-2123d6345bfa"
      },
      "source": [
        "#Reading AND Converting data from csv file to a  dataframe\n",
        "data = pd.read_csv(\"netflix_titles.csv\")\n",
        "data"
      ],
      "execution_count": null,
      "outputs": [
        {
          "output_type": "execute_result",
          "data": {
            "text/html": [
              "<div>\n",
              "<style scoped>\n",
              "    .dataframe tbody tr th:only-of-type {\n",
              "        vertical-align: middle;\n",
              "    }\n",
              "\n",
              "    .dataframe tbody tr th {\n",
              "        vertical-align: top;\n",
              "    }\n",
              "\n",
              "    .dataframe thead th {\n",
              "        text-align: right;\n",
              "    }\n",
              "</style>\n",
              "<table border=\"1\" class=\"dataframe\">\n",
              "  <thead>\n",
              "    <tr style=\"text-align: right;\">\n",
              "      <th></th>\n",
              "      <th>show_id</th>\n",
              "      <th>type</th>\n",
              "      <th>title</th>\n",
              "      <th>director</th>\n",
              "      <th>cast</th>\n",
              "      <th>country</th>\n",
              "      <th>date_added</th>\n",
              "      <th>release_year</th>\n",
              "      <th>rating</th>\n",
              "      <th>duration</th>\n",
              "      <th>listed_in</th>\n",
              "      <th>description</th>\n",
              "    </tr>\n",
              "  </thead>\n",
              "  <tbody>\n",
              "    <tr>\n",
              "      <th>0</th>\n",
              "      <td>s1</td>\n",
              "      <td>TV Show</td>\n",
              "      <td>3%</td>\n",
              "      <td>NaN</td>\n",
              "      <td>João Miguel, Bianca Comparato, Michel Gomes, R...</td>\n",
              "      <td>Brazil</td>\n",
              "      <td>August 14, 2020</td>\n",
              "      <td>2020</td>\n",
              "      <td>TV-MA</td>\n",
              "      <td>4 Seasons</td>\n",
              "      <td>International TV Shows, TV Dramas, TV Sci-Fi &amp;...</td>\n",
              "      <td>In a future where the elite inhabit an island ...</td>\n",
              "    </tr>\n",
              "    <tr>\n",
              "      <th>1</th>\n",
              "      <td>s2</td>\n",
              "      <td>Movie</td>\n",
              "      <td>7:19</td>\n",
              "      <td>Jorge Michel Grau</td>\n",
              "      <td>Demián Bichir, Héctor Bonilla, Oscar Serrano, ...</td>\n",
              "      <td>Mexico</td>\n",
              "      <td>December 23, 2016</td>\n",
              "      <td>2016</td>\n",
              "      <td>TV-MA</td>\n",
              "      <td>93 min</td>\n",
              "      <td>Dramas, International Movies</td>\n",
              "      <td>After a devastating earthquake hits Mexico Cit...</td>\n",
              "    </tr>\n",
              "    <tr>\n",
              "      <th>2</th>\n",
              "      <td>s3</td>\n",
              "      <td>Movie</td>\n",
              "      <td>23:59</td>\n",
              "      <td>Gilbert Chan</td>\n",
              "      <td>Tedd Chan, Stella Chung, Henley Hii, Lawrence ...</td>\n",
              "      <td>Singapore</td>\n",
              "      <td>December 20, 2018</td>\n",
              "      <td>2011</td>\n",
              "      <td>R</td>\n",
              "      <td>78 min</td>\n",
              "      <td>Horror Movies, International Movies</td>\n",
              "      <td>When an army recruit is found dead, his fellow...</td>\n",
              "    </tr>\n",
              "    <tr>\n",
              "      <th>3</th>\n",
              "      <td>s4</td>\n",
              "      <td>Movie</td>\n",
              "      <td>9</td>\n",
              "      <td>Shane Acker</td>\n",
              "      <td>Elijah Wood, John C. Reilly, Jennifer Connelly...</td>\n",
              "      <td>United States</td>\n",
              "      <td>November 16, 2017</td>\n",
              "      <td>2009</td>\n",
              "      <td>PG-13</td>\n",
              "      <td>80 min</td>\n",
              "      <td>Action &amp; Adventure, Independent Movies, Sci-Fi...</td>\n",
              "      <td>In a postapocalyptic world, rag-doll robots hi...</td>\n",
              "    </tr>\n",
              "    <tr>\n",
              "      <th>4</th>\n",
              "      <td>s5</td>\n",
              "      <td>Movie</td>\n",
              "      <td>21</td>\n",
              "      <td>Robert Luketic</td>\n",
              "      <td>Jim Sturgess, Kevin Spacey, Kate Bosworth, Aar...</td>\n",
              "      <td>United States</td>\n",
              "      <td>January 1, 2020</td>\n",
              "      <td>2008</td>\n",
              "      <td>PG-13</td>\n",
              "      <td>123 min</td>\n",
              "      <td>Dramas</td>\n",
              "      <td>A brilliant group of students become card-coun...</td>\n",
              "    </tr>\n",
              "    <tr>\n",
              "      <th>...</th>\n",
              "      <td>...</td>\n",
              "      <td>...</td>\n",
              "      <td>...</td>\n",
              "      <td>...</td>\n",
              "      <td>...</td>\n",
              "      <td>...</td>\n",
              "      <td>...</td>\n",
              "      <td>...</td>\n",
              "      <td>...</td>\n",
              "      <td>...</td>\n",
              "      <td>...</td>\n",
              "      <td>...</td>\n",
              "    </tr>\n",
              "    <tr>\n",
              "      <th>7782</th>\n",
              "      <td>s7783</td>\n",
              "      <td>Movie</td>\n",
              "      <td>Zozo</td>\n",
              "      <td>Josef Fares</td>\n",
              "      <td>Imad Creidi, Antoinette Turk, Elias Gergi, Car...</td>\n",
              "      <td>Sweden, Czech Republic, United Kingdom, Denmar...</td>\n",
              "      <td>October 19, 2020</td>\n",
              "      <td>2005</td>\n",
              "      <td>TV-MA</td>\n",
              "      <td>99 min</td>\n",
              "      <td>Dramas, International Movies</td>\n",
              "      <td>When Lebanon's Civil War deprives Zozo of his ...</td>\n",
              "    </tr>\n",
              "    <tr>\n",
              "      <th>7783</th>\n",
              "      <td>s7784</td>\n",
              "      <td>Movie</td>\n",
              "      <td>Zubaan</td>\n",
              "      <td>Mozez Singh</td>\n",
              "      <td>Vicky Kaushal, Sarah-Jane Dias, Raaghav Chanan...</td>\n",
              "      <td>India</td>\n",
              "      <td>March 2, 2019</td>\n",
              "      <td>2015</td>\n",
              "      <td>TV-14</td>\n",
              "      <td>111 min</td>\n",
              "      <td>Dramas, International Movies, Music &amp; Musicals</td>\n",
              "      <td>A scrappy but poor boy worms his way into a ty...</td>\n",
              "    </tr>\n",
              "    <tr>\n",
              "      <th>7784</th>\n",
              "      <td>s7785</td>\n",
              "      <td>Movie</td>\n",
              "      <td>Zulu Man in Japan</td>\n",
              "      <td>NaN</td>\n",
              "      <td>Nasty C</td>\n",
              "      <td>NaN</td>\n",
              "      <td>September 25, 2020</td>\n",
              "      <td>2019</td>\n",
              "      <td>TV-MA</td>\n",
              "      <td>44 min</td>\n",
              "      <td>Documentaries, International Movies, Music &amp; M...</td>\n",
              "      <td>In this documentary, South African rapper Nast...</td>\n",
              "    </tr>\n",
              "    <tr>\n",
              "      <th>7785</th>\n",
              "      <td>s7786</td>\n",
              "      <td>TV Show</td>\n",
              "      <td>Zumbo's Just Desserts</td>\n",
              "      <td>NaN</td>\n",
              "      <td>Adriano Zumbo, Rachel Khoo</td>\n",
              "      <td>Australia</td>\n",
              "      <td>October 31, 2020</td>\n",
              "      <td>2019</td>\n",
              "      <td>TV-PG</td>\n",
              "      <td>1 Season</td>\n",
              "      <td>International TV Shows, Reality TV</td>\n",
              "      <td>Dessert wizard Adriano Zumbo looks for the nex...</td>\n",
              "    </tr>\n",
              "    <tr>\n",
              "      <th>7786</th>\n",
              "      <td>s7787</td>\n",
              "      <td>Movie</td>\n",
              "      <td>ZZ TOP: THAT LITTLE OL' BAND FROM TEXAS</td>\n",
              "      <td>Sam Dunn</td>\n",
              "      <td>NaN</td>\n",
              "      <td>United Kingdom, Canada, United States</td>\n",
              "      <td>March 1, 2020</td>\n",
              "      <td>2019</td>\n",
              "      <td>TV-MA</td>\n",
              "      <td>90 min</td>\n",
              "      <td>Documentaries, Music &amp; Musicals</td>\n",
              "      <td>This documentary delves into the mystique behi...</td>\n",
              "    </tr>\n",
              "  </tbody>\n",
              "</table>\n",
              "<p>7787 rows × 12 columns</p>\n",
              "</div>"
            ],
            "text/plain": [
              "     show_id  ...                                        description\n",
              "0         s1  ...  In a future where the elite inhabit an island ...\n",
              "1         s2  ...  After a devastating earthquake hits Mexico Cit...\n",
              "2         s3  ...  When an army recruit is found dead, his fellow...\n",
              "3         s4  ...  In a postapocalyptic world, rag-doll robots hi...\n",
              "4         s5  ...  A brilliant group of students become card-coun...\n",
              "...      ...  ...                                                ...\n",
              "7782   s7783  ...  When Lebanon's Civil War deprives Zozo of his ...\n",
              "7783   s7784  ...  A scrappy but poor boy worms his way into a ty...\n",
              "7784   s7785  ...  In this documentary, South African rapper Nast...\n",
              "7785   s7786  ...  Dessert wizard Adriano Zumbo looks for the nex...\n",
              "7786   s7787  ...  This documentary delves into the mystique behi...\n",
              "\n",
              "[7787 rows x 12 columns]"
            ]
          },
          "metadata": {
            "tags": []
          },
          "execution_count": 5
        }
      ]
    },
    {
      "cell_type": "code",
      "metadata": {
        "colab": {
          "base_uri": "https://localhost:8080/"
        },
        "id": "vgAyj2UTEBPH",
        "outputId": "74fd6cbf-9c68-49df-8440-61b660599a79"
      },
      "source": [
        "# Shape of the data\n",
        "print(\"Shape of the data\", data.shape)\n",
        "print(\"Number of rows {} and number of columns {}\".format(data.shape[0], data.shape[1]))"
      ],
      "execution_count": null,
      "outputs": [
        {
          "output_type": "stream",
          "text": [
            "Shape of the data (7787, 12)\n",
            "Number of rows 7787 and number of columns 12\n"
          ],
          "name": "stdout"
        }
      ]
    },
    {
      "cell_type": "code",
      "metadata": {
        "colab": {
          "base_uri": "https://localhost:8080/"
        },
        "id": "G9WSHfaPFZzf",
        "outputId": "46e01092-0689-41a5-e82c-50979a694022"
      },
      "source": [
        "# Viewing the features/ columns of the dataset\n",
        "\n",
        "print(\" The columns/features present in the datset are \", data.columns.values)"
      ],
      "execution_count": null,
      "outputs": [
        {
          "output_type": "stream",
          "text": [
            " The columns/features present in the datset are  ['show_id' 'type' 'title' 'director' 'cast' 'country' 'date_added'\n",
            " 'release_year' 'rating' 'duration' 'listed_in' 'description']\n"
          ],
          "name": "stdout"
        }
      ]
    },
    {
      "cell_type": "code",
      "metadata": {
        "colab": {
          "base_uri": "https://localhost:8080/"
        },
        "id": "RMn9jJAFF80D",
        "outputId": "9bb8d0d0-cd92-41a8-eada-6bfe91b1471c"
      },
      "source": [
        "# Finding the types of each column in the data set\n",
        "data.dtypes"
      ],
      "execution_count": null,
      "outputs": [
        {
          "output_type": "execute_result",
          "data": {
            "text/plain": [
              "show_id         object\n",
              "type            object\n",
              "title           object\n",
              "director        object\n",
              "cast            object\n",
              "country         object\n",
              "date_added      object\n",
              "release_year     int64\n",
              "rating          object\n",
              "duration        object\n",
              "listed_in       object\n",
              "description     object\n",
              "dtype: object"
            ]
          },
          "metadata": {
            "tags": []
          },
          "execution_count": 8
        }
      ]
    },
    {
      "cell_type": "markdown",
      "metadata": {
        "id": "DKK-TZXjGrd7"
      },
      "source": [
        "Columns that have Null Values : \n",
        "Director, cast, country, date_added, rating "
      ]
    },
    {
      "cell_type": "code",
      "metadata": {
        "colab": {
          "base_uri": "https://localhost:8080/"
        },
        "id": "s7cWAzzpGLI1",
        "outputId": "b1460c0e-4347-425d-ccaf-0bace0e18e40"
      },
      "source": [
        "# To find general information of the datset\n",
        "data.info()"
      ],
      "execution_count": null,
      "outputs": [
        {
          "output_type": "stream",
          "text": [
            "<class 'pandas.core.frame.DataFrame'>\n",
            "RangeIndex: 7787 entries, 0 to 7786\n",
            "Data columns (total 12 columns):\n",
            " #   Column        Non-Null Count  Dtype \n",
            "---  ------        --------------  ----- \n",
            " 0   show_id       7787 non-null   object\n",
            " 1   type          7787 non-null   object\n",
            " 2   title         7787 non-null   object\n",
            " 3   director      5398 non-null   object\n",
            " 4   cast          7069 non-null   object\n",
            " 5   country       7280 non-null   object\n",
            " 6   date_added    7777 non-null   object\n",
            " 7   release_year  7787 non-null   int64 \n",
            " 8   rating        7780 non-null   object\n",
            " 9   duration      7787 non-null   object\n",
            " 10  listed_in     7787 non-null   object\n",
            " 11  description   7787 non-null   object\n",
            "dtypes: int64(1), object(11)\n",
            "memory usage: 730.2+ KB\n"
          ],
          "name": "stdout"
        }
      ]
    },
    {
      "cell_type": "markdown",
      "metadata": {
        "id": "ATuPTzMFHfON"
      },
      "source": [
        "The latest movie released was in 2021 and the earliest was in 1925\n",
        "\n",
        "\n",
        ".describe() gives you the statistics of the numerical data in the dataset"
      ]
    },
    {
      "cell_type": "code",
      "metadata": {
        "colab": {
          "base_uri": "https://localhost:8080/",
          "height": 297
        },
        "id": "DSG9Vu90HCKA",
        "outputId": "3a4dd51d-33bb-4aee-e4a0-f1d887b12d6a"
      },
      "source": [
        "data.describe()"
      ],
      "execution_count": null,
      "outputs": [
        {
          "output_type": "execute_result",
          "data": {
            "text/html": [
              "<div>\n",
              "<style scoped>\n",
              "    .dataframe tbody tr th:only-of-type {\n",
              "        vertical-align: middle;\n",
              "    }\n",
              "\n",
              "    .dataframe tbody tr th {\n",
              "        vertical-align: top;\n",
              "    }\n",
              "\n",
              "    .dataframe thead th {\n",
              "        text-align: right;\n",
              "    }\n",
              "</style>\n",
              "<table border=\"1\" class=\"dataframe\">\n",
              "  <thead>\n",
              "    <tr style=\"text-align: right;\">\n",
              "      <th></th>\n",
              "      <th>release_year</th>\n",
              "    </tr>\n",
              "  </thead>\n",
              "  <tbody>\n",
              "    <tr>\n",
              "      <th>count</th>\n",
              "      <td>7787.000000</td>\n",
              "    </tr>\n",
              "    <tr>\n",
              "      <th>mean</th>\n",
              "      <td>2013.932580</td>\n",
              "    </tr>\n",
              "    <tr>\n",
              "      <th>std</th>\n",
              "      <td>8.757395</td>\n",
              "    </tr>\n",
              "    <tr>\n",
              "      <th>min</th>\n",
              "      <td>1925.000000</td>\n",
              "    </tr>\n",
              "    <tr>\n",
              "      <th>25%</th>\n",
              "      <td>2013.000000</td>\n",
              "    </tr>\n",
              "    <tr>\n",
              "      <th>50%</th>\n",
              "      <td>2017.000000</td>\n",
              "    </tr>\n",
              "    <tr>\n",
              "      <th>75%</th>\n",
              "      <td>2018.000000</td>\n",
              "    </tr>\n",
              "    <tr>\n",
              "      <th>max</th>\n",
              "      <td>2021.000000</td>\n",
              "    </tr>\n",
              "  </tbody>\n",
              "</table>\n",
              "</div>"
            ],
            "text/plain": [
              "       release_year\n",
              "count   7787.000000\n",
              "mean    2013.932580\n",
              "std        8.757395\n",
              "min     1925.000000\n",
              "25%     2013.000000\n",
              "50%     2017.000000\n",
              "75%     2018.000000\n",
              "max     2021.000000"
            ]
          },
          "metadata": {
            "tags": []
          },
          "execution_count": 10
        }
      ]
    },
    {
      "cell_type": "markdown",
      "metadata": {
        "id": "Zm8wjbXzXb8b"
      },
      "source": [
        "Number of unique values in each columns"
      ]
    },
    {
      "cell_type": "code",
      "metadata": {
        "colab": {
          "base_uri": "https://localhost:8080/"
        },
        "id": "Lv53LCUSXkT9",
        "outputId": "a3d07777-d0e8-4df9-b4f4-ff1432b652bb"
      },
      "source": [
        "data.nunique()"
      ],
      "execution_count": null,
      "outputs": [
        {
          "output_type": "execute_result",
          "data": {
            "text/plain": [
              "show_id         7787\n",
              "type               2\n",
              "title           7787\n",
              "director        4049\n",
              "cast            6831\n",
              "country          681\n",
              "date_added      1565\n",
              "release_year      73\n",
              "rating            14\n",
              "duration         216\n",
              "listed_in        492\n",
              "description     7769\n",
              "dtype: int64"
            ]
          },
          "metadata": {
            "tags": []
          },
          "execution_count": 11
        }
      ]
    },
    {
      "cell_type": "markdown",
      "metadata": {
        "id": "3tynuZx_HcJX"
      },
      "source": [
        "Columns that has Null Values : Director, cast, country, date_added, rating"
      ]
    },
    {
      "cell_type": "code",
      "metadata": {
        "colab": {
          "base_uri": "https://localhost:8080/"
        },
        "id": "sPfxmS5zQubC",
        "outputId": "4e3e257f-bfe2-44d7-a5b2-54a01cffb215"
      },
      "source": [
        "data.isnull().sum()"
      ],
      "execution_count": null,
      "outputs": [
        {
          "output_type": "execute_result",
          "data": {
            "text/plain": [
              "show_id            0\n",
              "type               0\n",
              "title              0\n",
              "director        2389\n",
              "cast             718\n",
              "country          507\n",
              "date_added        10\n",
              "release_year       0\n",
              "rating             7\n",
              "duration           0\n",
              "listed_in          0\n",
              "description        0\n",
              "dtype: int64"
            ]
          },
          "metadata": {
            "tags": []
          },
          "execution_count": 12
        }
      ]
    },
    {
      "cell_type": "code",
      "metadata": {
        "colab": {
          "base_uri": "https://localhost:8080/"
        },
        "id": "IQ8Eba9TIIe6",
        "outputId": "374152c6-450a-41f9-a307-d888bc9a0f11"
      },
      "source": [
        "director_null = data[\"director\"].isnull().sum()\n",
        "cast_null = data[\"cast\"].isnull().sum()\n",
        "country_null = data[\"country\"].isnull().sum()\n",
        "date_added_null = data[\"date_added\"].isnull().sum()\n",
        "rating_null = data[\"rating\"].isnull().sum()\n",
        "\n",
        "print(\"The null values for Features Directors are {}, Cast are {}, Country are {}, Data_added are {}, Rating are {}\".format(director_null,cast_null,country_null,date_added_null,rating_null))\n"
      ],
      "execution_count": null,
      "outputs": [
        {
          "output_type": "stream",
          "text": [
            "The null values for Features Directors are 2389, Cast are 718, Country are 507, Data_added are 10, Rating are 7\n"
          ],
          "name": "stdout"
        }
      ]
    },
    {
      "cell_type": "markdown",
      "metadata": {
        "id": "7lEa7FB0U-ab"
      },
      "source": [
        "Exploring the most common values in each possible feature"
      ]
    },
    {
      "cell_type": "code",
      "metadata": {
        "colab": {
          "base_uri": "https://localhost:8080/"
        },
        "id": "8a3FvSgaRS2b",
        "outputId": "71f8549d-e481-4a05-c7cb-d2bd4f13a58c"
      },
      "source": [
        "for col in data.columns.values:\n",
        "  if col not in [\"show_id\", \"Movie\", \"title\", \"description\"]:\n",
        "    most_common = data[col].mode().item()\n",
        "    print(\"The most common {} is {} and has appeared {} times\".format(col, most_common, sum(data[col] == most_common)))"
      ],
      "execution_count": null,
      "outputs": [
        {
          "output_type": "stream",
          "text": [
            "The most common type is Movie and has appeared 5377 times\n",
            "The most common director is Raúl Campos, Jan Suter and has appeared 18 times\n",
            "The most common cast is David Attenborough and has appeared 18 times\n",
            "The most common country is United States and has appeared 2555 times\n",
            "The most common date_added is January 1, 2020 and has appeared 118 times\n",
            "The most common release_year is 2018 and has appeared 1121 times\n",
            "The most common rating is TV-MA and has appeared 2863 times\n",
            "The most common duration is 1 Season and has appeared 1608 times\n",
            "The most common listed_in is Documentaries and has appeared 334 times\n"
          ],
          "name": "stdout"
        }
      ]
    },
    {
      "cell_type": "markdown",
      "metadata": {
        "id": "gDdRXZxSZP2L"
      },
      "source": [
        "## Data manipulation - Filling the null values"
      ]
    },
    {
      "cell_type": "markdown",
      "metadata": {
        "id": "qqXszwSiKrvg"
      },
      "source": [
        "Since the columns with null values are either categorical or ordinal, I'm giving unknown for the director, cast, country and for others I'm replacing the values with mode, which gives the most common value."
      ]
    },
    {
      "cell_type": "code",
      "metadata": {
        "colab": {
          "base_uri": "https://localhost:8080/"
        },
        "id": "vgxFEcFNL1BT",
        "outputId": "f79145ec-5c17-4228-86bd-64b8b5e15c22"
      },
      "source": [
        "# Replacing the values where the director is null with \"Unknown\"\n",
        "data[\"director\"] = data[\"director\"].fillna(\"Unknown\")\n",
        "data[\"cast\"] = data[\"cast\"].fillna(\"Unknown\")\n",
        "data[\"country\"] = data[\"country\"].fillna(\"Unknown\")\n",
        "most_common_date_added = data[\"date_added\"].mode()\n",
        "data[\"date_added\"] = data[\"date_added\"].fillna(most_common_date_added.item())\n",
        "most_common_rating = data[\"rating\"].mode()\n",
        "data[\"rating\"] = data[\"rating\"].fillna(most_common_rating.item())\n",
        "data.info()"
      ],
      "execution_count": null,
      "outputs": [
        {
          "output_type": "stream",
          "text": [
            "<class 'pandas.core.frame.DataFrame'>\n",
            "RangeIndex: 7787 entries, 0 to 7786\n",
            "Data columns (total 12 columns):\n",
            " #   Column        Non-Null Count  Dtype \n",
            "---  ------        --------------  ----- \n",
            " 0   show_id       7787 non-null   object\n",
            " 1   type          7787 non-null   object\n",
            " 2   title         7787 non-null   object\n",
            " 3   director      7787 non-null   object\n",
            " 4   cast          7787 non-null   object\n",
            " 5   country       7787 non-null   object\n",
            " 6   date_added    7787 non-null   object\n",
            " 7   release_year  7787 non-null   int64 \n",
            " 8   rating        7787 non-null   object\n",
            " 9   duration      7787 non-null   object\n",
            " 10  listed_in     7787 non-null   object\n",
            " 11  description   7787 non-null   object\n",
            "dtypes: int64(1), object(11)\n",
            "memory usage: 730.2+ KB\n"
          ],
          "name": "stdout"
        }
      ]
    },
    {
      "cell_type": "markdown",
      "metadata": {
        "id": "Vucg3fkAvJC0"
      },
      "source": [
        "##Data Visualization"
      ]
    },
    {
      "cell_type": "code",
      "metadata": {
        "colab": {
          "base_uri": "https://localhost:8080/",
          "height": 419
        },
        "id": "XdOQPLUE0dvq",
        "outputId": "ce545293-6324-4360-8a14-bd4c85859c9b"
      },
      "source": [
        "directors = data[\"director\"].value_counts().to_frame().reset_index(level = [0])\n",
        "directors"
      ],
      "execution_count": null,
      "outputs": [
        {
          "output_type": "execute_result",
          "data": {
            "text/html": [
              "<div>\n",
              "<style scoped>\n",
              "    .dataframe tbody tr th:only-of-type {\n",
              "        vertical-align: middle;\n",
              "    }\n",
              "\n",
              "    .dataframe tbody tr th {\n",
              "        vertical-align: top;\n",
              "    }\n",
              "\n",
              "    .dataframe thead th {\n",
              "        text-align: right;\n",
              "    }\n",
              "</style>\n",
              "<table border=\"1\" class=\"dataframe\">\n",
              "  <thead>\n",
              "    <tr style=\"text-align: right;\">\n",
              "      <th></th>\n",
              "      <th>index</th>\n",
              "      <th>director</th>\n",
              "    </tr>\n",
              "  </thead>\n",
              "  <tbody>\n",
              "    <tr>\n",
              "      <th>0</th>\n",
              "      <td>Unknown</td>\n",
              "      <td>2389</td>\n",
              "    </tr>\n",
              "    <tr>\n",
              "      <th>1</th>\n",
              "      <td>Raúl Campos, Jan Suter</td>\n",
              "      <td>18</td>\n",
              "    </tr>\n",
              "    <tr>\n",
              "      <th>2</th>\n",
              "      <td>Marcus Raboy</td>\n",
              "      <td>16</td>\n",
              "    </tr>\n",
              "    <tr>\n",
              "      <th>3</th>\n",
              "      <td>Jay Karas</td>\n",
              "      <td>14</td>\n",
              "    </tr>\n",
              "    <tr>\n",
              "      <th>4</th>\n",
              "      <td>Cathy Garcia-Molina</td>\n",
              "      <td>13</td>\n",
              "    </tr>\n",
              "    <tr>\n",
              "      <th>...</th>\n",
              "      <td>...</td>\n",
              "      <td>...</td>\n",
              "    </tr>\n",
              "    <tr>\n",
              "      <th>4045</th>\n",
              "      <td>Darragh O'Connell</td>\n",
              "      <td>1</td>\n",
              "    </tr>\n",
              "    <tr>\n",
              "      <th>4046</th>\n",
              "      <td>M.J. Isakson</td>\n",
              "      <td>1</td>\n",
              "    </tr>\n",
              "    <tr>\n",
              "      <th>4047</th>\n",
              "      <td>Nanette Burstein</td>\n",
              "      <td>1</td>\n",
              "    </tr>\n",
              "    <tr>\n",
              "      <th>4048</th>\n",
              "      <td>Shanawaz Nellikunnil</td>\n",
              "      <td>1</td>\n",
              "    </tr>\n",
              "    <tr>\n",
              "      <th>4049</th>\n",
              "      <td>Malik Nejer</td>\n",
              "      <td>1</td>\n",
              "    </tr>\n",
              "  </tbody>\n",
              "</table>\n",
              "<p>4050 rows × 2 columns</p>\n",
              "</div>"
            ],
            "text/plain": [
              "                       index  director\n",
              "0                    Unknown      2389\n",
              "1     Raúl Campos, Jan Suter        18\n",
              "2               Marcus Raboy        16\n",
              "3                  Jay Karas        14\n",
              "4        Cathy Garcia-Molina        13\n",
              "...                      ...       ...\n",
              "4045       Darragh O'Connell         1\n",
              "4046            M.J. Isakson         1\n",
              "4047        Nanette Burstein         1\n",
              "4048    Shanawaz Nellikunnil         1\n",
              "4049             Malik Nejer         1\n",
              "\n",
              "[4050 rows x 2 columns]"
            ]
          },
          "metadata": {
            "tags": []
          },
          "execution_count": 43
        }
      ]
    },
    {
      "cell_type": "code",
      "metadata": {
        "colab": {
          "base_uri": "https://localhost:8080/",
          "height": 402
        },
        "id": "BysgNNtlvG2j",
        "outputId": "56c3a216-7107-4485-b7c7-aa07568fc034"
      },
      "source": [
        "directors = data[\"director\"].value_counts().to_frame().reset_index(level = [0])\n",
        "plt.bar(directors[\"index\"][1:6], directors[\"director\"][1:6])\n",
        "plt.title(\"Top 5 Directors\")\n",
        "plt.xlabel(\"Directors\")\n",
        "plt.ylabel(\"Number of Entries for each Director\")\n",
        "ax = plt.gca()\n",
        "ax.tick_params(axis='x', labelrotation = 90)\n",
        "plt.show()"
      ],
      "execution_count": null,
      "outputs": [
        {
          "output_type": "display_data",
          "data": {
            "image/png": "[encoded data removed]",
            "text/plain": [
              "<Figure size 432x288 with 1 Axes>"
            ]
          },
          "metadata": {
            "tags": [],
            "needs_background": "light"
          }
        }
      ]
    },
    {
      "cell_type": "code",
      "metadata": {
        "colab": {
          "base_uri": "https://localhost:8080/"
        },
        "id": "jNSbBnnPznyg",
        "outputId": "a2c8d10b-44df-40f2-8d56-7608091ab68c"
      },
      "source": [
        "content_type = data[\"type\"].value_counts()\n",
        "content_type"
      ],
      "execution_count": null,
      "outputs": [
        {
          "output_type": "execute_result",
          "data": {
            "text/plain": [
              "Movie      5377\n",
              "TV Show    2410\n",
              "Name: type, dtype: int64"
            ]
          },
          "metadata": {
            "tags": []
          },
          "execution_count": 55
        }
      ]
    },
    {
      "cell_type": "code",
      "metadata": {
        "colab": {
          "base_uri": "https://localhost:8080/",
          "height": 264
        },
        "id": "3vTsuXi80WsG",
        "outputId": "f2f11a71-af2f-492c-b700-3b43d79cb36b"
      },
      "source": [
        "explode = (0, 0.1)\n",
        "plt.pie(content_type.values, explode = explode, labels = content_type.index, autopct='%1.1f%%', shadow = True)\n",
        "plt.title(\"Percentage of Movies vs TV Shows Created\")\n",
        "plt.show()"
      ],
      "execution_count": null,
      "outputs": [
        {
          "output_type": "display_data",
          "data": {
            "image/png": "[encoded data removed]",
            "text/plain": [
              "<Figure size 432x288 with 1 Axes>"
            ]
          },
          "metadata": {
            "tags": []
          }
        }
      ]
    },
    {
      "cell_type": "code",
      "metadata": {
        "colab": {
          "base_uri": "https://localhost:8080/"
        },
        "id": "sOd5ZXwm2qAv",
        "outputId": "fed0c2e5-bb9d-4e08-cfa3-2680a4d237fb"
      },
      "source": [
        "release_year = data[\"release_year\"].value_counts()\n",
        "release_year[:20]"
      ],
      "execution_count": null,
      "outputs": [
        {
          "output_type": "execute_result",
          "data": {
            "text/plain": [
              "2018    1121\n",
              "2017    1012\n",
              "2019     996\n",
              "2016     882\n",
              "2020     868\n",
              "2015     541\n",
              "2014     334\n",
              "2013     267\n",
              "2012     219\n",
              "2010     173\n",
              "2011     166\n",
              "2009     137\n",
              "2008     125\n",
              "2006      85\n",
              "2007      85\n",
              "2005      73\n",
              "2004      59\n",
              "2003      49\n",
              "2002      45\n",
              "2001      36\n",
              "Name: release_year, dtype: int64"
            ]
          },
          "metadata": {
            "tags": []
          },
          "execution_count": 68
        }
      ]
    },
    {
      "cell_type": "code",
      "metadata": {
        "colab": {
          "base_uri": "https://localhost:8080/",
          "height": 295
        },
        "id": "z_ls40EP3cVh",
        "outputId": "e63df744-7543-49e2-d8d9-20f59a516fc4"
      },
      "source": [
        "plt.bar(release_year.index, release_year.values)\n",
        "plt.title(\"Number of Movies/TV Shows Released throughout Time\")\n",
        "plt.xlabel(\"Year\")\n",
        "plt.ylabel(\"Amount\")\n",
        "plt.show()"
      ],
      "execution_count": null,
      "outputs": [
        {
          "output_type": "display_data",
          "data": {
            "image/png": "[encoded data removed]",
            "text/plain": [
              "<Figure size 432x288 with 1 Axes>"
            ]
          },
          "metadata": {
            "tags": [],
            "needs_background": "light"
          }
        }
      ]
    },
    {
      "cell_type": "code",
      "metadata": {
        "colab": {
          "base_uri": "https://localhost:8080/",
          "height": 295
        },
        "id": "2QlEtNAl36-d",
        "outputId": "d7a74a42-944c-4138-d60c-628823e55470"
      },
      "source": [
        "my_cmap = plt.get_cmap(\"magma\")\n",
        "plt.barh(release_year.index[:10], release_year.values[:10], color = my_cmap.colors)\n",
        "plt.title(\"Number of TV Shows/Movies Released throughout the Past 10 Years \")\n",
        "plt.xlabel(\"Amount\")\n",
        "plt.ylabel(\"Year\")\n",
        "plt.show()"
      ],
      "execution_count": null,
      "outputs": [
        {
          "output_type": "display_data",
          "data": {
            "image/png": "[encoded data removed]",
            "text/plain": [
              "<Figure size 432x288 with 1 Axes>"
            ]
          },
          "metadata": {
            "tags": [],
            "needs_background": "light"
          }
        }
      ]
    },
    {
      "cell_type": "code",
      "metadata": {
        "colab": {
          "base_uri": "https://localhost:8080/"
        },
        "id": "syGEekoN6i2f",
        "outputId": "68fe2b4d-efe3-4795-8bdc-8301d7ce89e1"
      },
      "source": [
        "country = data[\"country\"].value_counts()\n",
        "country.drop(labels=\"Unknown\", inplace = True)\n",
        "country"
      ],
      "execution_count": null,
      "outputs": [
        {
          "output_type": "execute_result",
          "data": {
            "text/plain": [
              "United States                                    2555\n",
              "India                                             923\n",
              "United Kingdom                                    397\n",
              "Japan                                             226\n",
              "South Korea                                       183\n",
              "                                                 ... \n",
              "Japan, Canada, United States                        1\n",
              "United Arab Emirates, Jordan, Lebanon               1\n",
              "Philippines, Singapore                              1\n",
              "Canada, Luxembourg                                  1\n",
              "United States, Czech Republic, United Kingdom       1\n",
              "Name: country, Length: 681, dtype: int64"
            ]
          },
          "metadata": {
            "tags": []
          },
          "execution_count": 90
        }
      ]
    },
    {
      "cell_type": "code",
      "metadata": {
        "colab": {
          "base_uri": "https://localhost:8080/",
          "height": 295
        },
        "id": "WTFF3dA27FvF",
        "outputId": "c5bbea38-fa1f-4294-fcae-bfbd8ed216e9"
      },
      "source": [
        "my_cmap = plt.get_cmap(\"twilight\", 5)\n",
        "plt.bar(country.index[:5],country.values[:5], color = my_cmap.colors)\n",
        "plt.title(\"Top 5 Countries that Released the Most Content\")\n",
        "plt.xlabel(\"Country\")\n",
        "plt.ylabel(\"Amount\")\n",
        "plt.show()"
      ],
      "execution_count": null,
      "outputs": [
        {
          "output_type": "display_data",
          "data": {
            "image/png": "[encoded data removed]",
            "text/plain": [
              "<Figure size 432x288 with 1 Axes>"
            ]
          },
          "metadata": {
            "tags": [],
            "needs_background": "light"
          }
        }
      ]
    },
    {
      "cell_type": "code",
      "metadata": {
        "colab": {
          "base_uri": "https://localhost:8080/"
        },
        "id": "VQY5xdWX8gz0",
        "outputId": "0e5c5f3e-e472-48d7-d46f-baf979da6331"
      },
      "source": [
        "rating = data[\"rating\"].value_counts()\n",
        "rating"
      ],
      "execution_count": null,
      "outputs": [
        {
          "output_type": "execute_result",
          "data": {
            "text/plain": [
              "TV-MA       2870\n",
              "TV-14       1931\n",
              "TV-PG        806\n",
              "R            665\n",
              "PG-13        386\n",
              "TV-Y         280\n",
              "TV-Y7        271\n",
              "PG           247\n",
              "TV-G         194\n",
              "NR            84\n",
              "G             39\n",
              "TV-Y7-FV       6\n",
              "UR             5\n",
              "NC-17          3\n",
              "Name: rating, dtype: int64"
            ]
          },
          "metadata": {
            "tags": []
          },
          "execution_count": 121
        }
      ]
    },
    {
      "cell_type": "code",
      "metadata": {
        "colab": {
          "base_uri": "https://localhost:8080/",
          "height": 295
        },
        "id": "p-F8r4a1AMj4",
        "outputId": "c13d0a6f-b4cc-4b82-89d6-e84e170c3ad7"
      },
      "source": [
        "my_cmap = plt.get_cmap(\"viridis\")\n",
        "plt.barh(rating.index, rating.values, color = my_cmap.colors)\n",
        "plt.title(\"Number of each Rating\")\n",
        "plt.xlabel(\"Amount\")\n",
        "plt.ylabel(\"Rating\")\n",
        "plt.show()"
      ],
      "execution_count": null,
      "outputs": [
        {
          "output_type": "display_data",
          "data": {
            "image/png": "[encoded data removed]",
            "text/plain": [
              "<Figure size 432x288 with 1 Axes>"
            ]
          },
          "metadata": {
            "tags": [],
            "needs_background": "light"
          }
        }
      ]
    },
    {
      "cell_type": "code",
      "metadata": {
        "colab": {
          "base_uri": "https://localhost:8080/"
        },
        "id": "S_UdJe_8Dsql",
        "outputId": "ce19271c-0ded-4ffd-c829-0026fe93aa21"
      },
      "source": [
        "years = [2020,2019,2018,2017,2016,2015,2014,2013,2012,2011,2010]\n",
        "data_after2010 = data[data[\"release_year\"] >= 2010]\n",
        "\n",
        "years = data_after2010.groupby(['release_year', \"type\"])['rating'].count()\n",
        "years"
      ],
      "execution_count": null,
      "outputs": [
        {
          "output_type": "execute_result",
          "data": {
            "text/plain": [
              "release_year  type   \n",
              "2010          Movie      136\n",
              "              TV Show     37\n",
              "2011          Movie      127\n",
              "              TV Show     39\n",
              "2012          Movie      158\n",
              "              TV Show     61\n",
              "2013          Movie      202\n",
              "              TV Show     65\n",
              "2014          Movie      244\n",
              "              TV Show     90\n",
              "2015          Movie      382\n",
              "              TV Show    159\n",
              "2016          Movie      642\n",
              "              TV Show    240\n",
              "2017          Movie      744\n",
              "              TV Show    268\n",
              "2018          Movie      734\n",
              "              TV Show    387\n",
              "2019          Movie      582\n",
              "              TV Show    414\n",
              "2020          Movie      411\n",
              "              TV Show    457\n",
              "2021          Movie       12\n",
              "              TV Show     19\n",
              "Name: rating, dtype: int64"
            ]
          },
          "metadata": {
            "tags": []
          },
          "execution_count": 165
        }
      ]
    },
    {
      "cell_type": "code",
      "metadata": {
        "colab": {
          "base_uri": "https://localhost:8080/",
          "height": 359
        },
        "id": "h8yrJ7rPGI8n",
        "outputId": "08ed960c-dd87-4a68-89e5-e91dd0217488"
      },
      "source": [
        "years = years.reset_index()\n",
        "years[:10]"
      ],
      "execution_count": null,
      "outputs": [
        {
          "output_type": "execute_result",
          "data": {
            "text/html": [
              "<div>\n",
              "<style scoped>\n",
              "    .dataframe tbody tr th:only-of-type {\n",
              "        vertical-align: middle;\n",
              "    }\n",
              "\n",
              "    .dataframe tbody tr th {\n",
              "        vertical-align: top;\n",
              "    }\n",
              "\n",
              "    .dataframe thead th {\n",
              "        text-align: right;\n",
              "    }\n",
              "</style>\n",
              "<table border=\"1\" class=\"dataframe\">\n",
              "  <thead>\n",
              "    <tr style=\"text-align: right;\">\n",
              "      <th></th>\n",
              "      <th>release_year</th>\n",
              "      <th>type</th>\n",
              "      <th>rating</th>\n",
              "    </tr>\n",
              "  </thead>\n",
              "  <tbody>\n",
              "    <tr>\n",
              "      <th>0</th>\n",
              "      <td>2010</td>\n",
              "      <td>Movie</td>\n",
              "      <td>136</td>\n",
              "    </tr>\n",
              "    <tr>\n",
              "      <th>1</th>\n",
              "      <td>2010</td>\n",
              "      <td>TV Show</td>\n",
              "      <td>37</td>\n",
              "    </tr>\n",
              "    <tr>\n",
              "      <th>2</th>\n",
              "      <td>2011</td>\n",
              "      <td>Movie</td>\n",
              "      <td>127</td>\n",
              "    </tr>\n",
              "    <tr>\n",
              "      <th>3</th>\n",
              "      <td>2011</td>\n",
              "      <td>TV Show</td>\n",
              "      <td>39</td>\n",
              "    </tr>\n",
              "    <tr>\n",
              "      <th>4</th>\n",
              "      <td>2012</td>\n",
              "      <td>Movie</td>\n",
              "      <td>158</td>\n",
              "    </tr>\n",
              "    <tr>\n",
              "      <th>5</th>\n",
              "      <td>2012</td>\n",
              "      <td>TV Show</td>\n",
              "      <td>61</td>\n",
              "    </tr>\n",
              "    <tr>\n",
              "      <th>6</th>\n",
              "      <td>2013</td>\n",
              "      <td>Movie</td>\n",
              "      <td>202</td>\n",
              "    </tr>\n",
              "    <tr>\n",
              "      <th>7</th>\n",
              "      <td>2013</td>\n",
              "      <td>TV Show</td>\n",
              "      <td>65</td>\n",
              "    </tr>\n",
              "    <tr>\n",
              "      <th>8</th>\n",
              "      <td>2014</td>\n",
              "      <td>Movie</td>\n",
              "      <td>244</td>\n",
              "    </tr>\n",
              "    <tr>\n",
              "      <th>9</th>\n",
              "      <td>2014</td>\n",
              "      <td>TV Show</td>\n",
              "      <td>90</td>\n",
              "    </tr>\n",
              "  </tbody>\n",
              "</table>\n",
              "</div>"
            ],
            "text/plain": [
              "   release_year     type  rating\n",
              "0          2010    Movie     136\n",
              "1          2010  TV Show      37\n",
              "2          2011    Movie     127\n",
              "3          2011  TV Show      39\n",
              "4          2012    Movie     158\n",
              "5          2012  TV Show      61\n",
              "6          2013    Movie     202\n",
              "7          2013  TV Show      65\n",
              "8          2014    Movie     244\n",
              "9          2014  TV Show      90"
            ]
          },
          "metadata": {
            "tags": []
          },
          "execution_count": 166
        }
      ]
    },
    {
      "cell_type": "code",
      "metadata": {
        "colab": {
          "base_uri": "https://localhost:8080/",
          "height": 621
        },
        "id": "4qOL4SbGHc44",
        "outputId": "ab6fcc3f-ef4e-4ce0-bd36-684ff421b859"
      },
      "source": [
        "bar, ax = plt.subplots(figsize = (10,10))\n",
        "sns.barplot(x = \"release_year\", y = \"rating\", hue = \"type\", data = years, palette =  sns.color_palette(\"Set2\", 5))\n",
        "plt.title(\"Amount of Movies vs TV Shows Released throughout the Past 10 Years\")\n",
        "plt.xlabel(\"Year\")\n",
        "plt.ylabel(\"Count\")\n",
        "plt.show()"
      ],
      "execution_count": null,
      "outputs": [
        {
          "output_type": "display_data",
          "data": {
            "image/png": "[encoded data removed]",
            "text/plain": [
              "<Figure size 720x720 with 1 Axes>"
            ]
          },
          "metadata": {
            "tags": [],
            "needs_background": "light"
          }
        }
      ]
    }
  ]
}